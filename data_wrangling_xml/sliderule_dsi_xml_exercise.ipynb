{
 "cells": [
  {
   "cell_type": "markdown",
   "metadata": {},
   "source": [
    "# XML example and exercise\n",
    "****\n",
    "+ study examples of accessing nodes in XML tree structure  \n",
    "+ work on exercise to be completed and submitted\n",
    "****\n",
    "+ reference: https://docs.python.org/2.7/library/xml.etree.elementtree.html\n",
    "+ data source: http://www.dbis.informatik.uni-goettingen.de/Mondial\n",
    "****"
   ]
  },
  {
   "cell_type": "code",
   "execution_count": 1,
   "metadata": {
    "collapsed": true
   },
   "outputs": [],
   "source": [
    "from xml.etree import ElementTree as ET"
   ]
  },
  {
   "cell_type": "markdown",
   "metadata": {},
   "source": [
    "## XML example\n",
    "\n",
    "+ for details about tree traversal and iterators, see https://docs.python.org/2.7/library/xml.etree.elementtree.html"
   ]
  },
  {
   "cell_type": "code",
   "execution_count": 2,
   "metadata": {
    "collapsed": true
   },
   "outputs": [],
   "source": [
    "document_tree = ET.parse( './data/mondial_database_less.xml' )"
   ]
  },
  {
   "cell_type": "code",
   "execution_count": 4,
   "metadata": {
    "collapsed": false
   },
   "outputs": [
    {
     "name": "stdout",
     "output_type": "stream",
     "text": [
      "Albania\n",
      "Greece\n",
      "Macedonia\n",
      "Serbia\n",
      "Montenegro\n",
      "Kosovo\n",
      "Andorra\n"
     ]
    }
   ],
   "source": [
    "# print names of all countries\n",
    "for child in document_tree.getroot():\n",
    "    print(child.find('name').text)"
   ]
  },
  {
   "cell_type": "code",
   "execution_count": 6,
   "metadata": {
    "collapsed": false
   },
   "outputs": [
    {
     "name": "stdout",
     "output_type": "stream",
     "text": [
      "* Albania:\n",
      "Tirana, Shkodër, Durrës, Vlorë, Elbasan, Korçë\n",
      "* Greece:\n",
      "Komotini, Kavala, Athina, Peiraias, Peristeri, Acharnes, Patra, Kozani, Kerkyra, Ioannina, Thessaloniki, Iraklio, Chania, Ermoupoli, Rhodes, Tripoli, Lamia, Chalkida, Larissa, Volos, Mytilini, Karyes\n",
      "* Macedonia:\n",
      "Skopje, Kumanovo\n",
      "* Serbia:\n",
      "Beograd, Novi Sad, Niš\n",
      "* Montenegro:\n",
      "Podgorica\n",
      "* Kosovo:\n",
      "Prishtine\n",
      "* Andorra:\n",
      "Andorra la Vella\n"
     ]
    }
   ],
   "source": [
    "# print names of all countries and their cities\n",
    "for element in document_tree.iterfind('country'):\n",
    "    print ('* ' + element.find('name').text + ':')\n",
    "    capitals_string = ''\n",
    "    for subelement in element.getiterator('city'):\n",
    "        capitals_string += subelement.find('name').text + ', '\n",
    "    print(capitals_string[:-2])"
   ]
  },
  {
   "cell_type": "markdown",
   "metadata": {},
   "source": [
    "****\n",
    "## XML exercise\n",
    "\n",
    "Using data in 'data/mondial_database.xml', the examples above, and refering to https://docs.python.org/2.7/library/xml.etree.elementtree.html, find\n",
    "\n",
    "1. 10 countries with the lowest infant mortality rates\n",
    "2. 10 cities with the largest population\n",
    "3. 10 ethnic groups with the largest overall populations (sum of best/latest estimates over all countries)\n",
    "4. name and country of a) longest river, b) largest lake and c) airport at highest elevation"
   ]
  },
  {
   "cell_type": "code",
   "execution_count": 20,
   "metadata": {
    "collapsed": true
   },
   "outputs": [],
   "source": [
    "document = ET.parse( './data/mondial_database.xml' )"
   ]
  },
  {
   "cell_type": "code",
   "execution_count": 8,
   "metadata": {
    "collapsed": true
   },
   "outputs": [],
   "source": [
    "import pandas as pd"
   ]
  },
  {
   "cell_type": "code",
   "execution_count": 14,
   "metadata": {
    "collapsed": false
   },
   "outputs": [
    {
     "data": {
      "text/plain": [
       "Monaco            1.81\n",
       "Japan             2.13\n",
       "Norway            2.48\n",
       "Bermuda           2.48\n",
       "Singapore         2.53\n",
       "Sweden            2.60\n",
       "Czech Republic    2.63\n",
       "Hong Kong         2.73\n",
       "Macao             3.13\n",
       "Iceland           3.15\n",
       "dtype: float64"
      ]
     },
     "execution_count": 14,
     "metadata": {},
     "output_type": "execute_result"
    }
   ],
   "source": [
    "infant_mortality = {}\n",
    "for country in document.iterfind('country'):\n",
    "    cname = country.find('name')\n",
    "    if cname != None:\n",
    "        mortality = country.find('infant_mortality')\n",
    "        if mortality != None:\n",
    "            infant_mortality[cname.text] = float(mortality.text)\n",
    "pd.Series(infant_mortality).sort_values().head(10)"
   ]
  },
  {
   "cell_type": "code",
   "execution_count": 32,
   "metadata": {
    "collapsed": false
   },
   "outputs": [
    {
     "data": {
      "text/plain": [
       "Shanghai     22315474\n",
       "Istanbul     13710512\n",
       "Mumbai       12442373\n",
       "Moskva       11979529\n",
       "Beijing      11716620\n",
       "São Paulo    11152344\n",
       "Tianjin      11090314\n",
       "Guangzhou    11071424\n",
       "Delhi        11034555\n",
       "Shenzhen     10358381\n",
       "dtype: float64"
      ]
     },
     "execution_count": 32,
     "metadata": {},
     "output_type": "execute_result"
    }
   ],
   "source": [
    "city_pop = {}\n",
    "for country in document.iterfind('country'):\n",
    "    for city in country.iter('city'):\n",
    "        cname = city.find('name')\n",
    "        if cname != None:\n",
    "            for population in city.findall('population'):\n",
    "                city_pop[cname.text] = float(population.text)\n",
    "pd.Series(city_pop).sort_values(ascending=False).head(10)"
   ]
  },
  {
   "cell_type": "code",
   "execution_count": 36,
   "metadata": {
    "collapsed": false
   },
   "outputs": [
    {
     "data": {
      "text/plain": [
       "Han Chinese    1245058800\n",
       "Indo-Aryan      871815583\n",
       "European        494872221\n",
       "African         318325121\n",
       "Dravidian       302713744\n",
       "Mestizo         157734355\n",
       "Bengali         146776917\n",
       "Russian         131856994\n",
       "Japanese        126534212\n",
       "Malay           121993550\n",
       "dtype: int64"
      ]
     },
     "execution_count": 36,
     "metadata": {},
     "output_type": "execute_result"
    }
   ],
   "source": [
    "ethnic_pop = {}\n",
    "for country in document.iterfind('country'):\n",
    "    total_pop = 0\n",
    "    for population in country.findall('population'):\n",
    "        total_pop = int(population.text)\n",
    "    for eg in country.findall('ethnicgroup'):\n",
    "        eg_name = eg.text\n",
    "        eg_percent = eg.attrib['percentage']\n",
    "        if eg_percent != None:\n",
    "            if eg_name in ethnic_pop:\n",
    "                ethnic_pop[eg_name] += round(total_pop * float(eg_percent)/100)\n",
    "            else:\n",
    "                ethnic_pop[eg_name] = round(total_pop*float(eg_percent)/100)\n",
    "pd.Series(ethnic_pop).sort_values(ascending=False).head(10)"
   ]
  },
  {
   "cell_type": "code",
   "execution_count": 68,
   "metadata": {
    "collapsed": false
   },
   "outputs": [],
   "source": [
    "river_len = 0\n",
    "river_name = ''\n",
    "c_river = ''\n",
    "lake_width = 0\n",
    "lake_name = ''\n",
    "c_lake = ''\n",
    "airport_ele = 0\n",
    "airport_name = ''\n",
    "c_airport = ''\n",
    "for river in document.findall('river'):\n",
    "        temp = river.find('length')\n",
    "        if temp != None:\n",
    "            temp = float(temp.text)\n",
    "            if temp > river_len:\n",
    "                river_len = temp\n",
    "                river_name = river.find('name').text\n",
    "                c_river = river.attrib['country']\n",
    "for lake in document.findall('lake'):\n",
    "        temp = lake.find('area')\n",
    "        if temp != None:\n",
    "            temp = float(temp.text)\n",
    "            if temp > lake_width:\n",
    "                lake_width = temp\n",
    "                lake_name = lake.find('name').text\n",
    "                c_lake = lake.attrib['country']\n",
    "for airport in document.findall('airport'):\n",
    "        temp = airport.find('elevation')\n",
    "        if temp != None and temp.text!= None:\n",
    "            temp = float(temp.text)\n",
    "            if temp > airport_ele:\n",
    "                airport_ele = temp\n",
    "                airport_name = airport.find('name').text\n",
    "                c_airport = airport.attrib['country']"
   ]
  },
  {
   "cell_type": "code",
   "execution_count": 69,
   "metadata": {
    "collapsed": false
   },
   "outputs": [
    {
     "name": "stdout",
     "output_type": "stream",
     "text": [
      "Country with longest river: CO BR PE, Amazonas, 6448.0\n",
      "Country with largest lake: R AZ KAZ IR TM, Caspian Sea, 386400.0\n",
      "Country with highest airport: BOL, El Alto Intl, 4063.0\n"
     ]
    }
   ],
   "source": [
    "print('Country with longest river: ' + c_river + ', '+ river_name + ', '+str(river_len))\n",
    "print('Country with largest lake: ' + c_lake + ', '+ lake_name + ', '+str(lake_width))\n",
    "print('Country with highest airport: ' + c_airport + ', '+ airport_name + ', '+str(airport_ele))"
   ]
  }
 ],
 "metadata": {
  "kernelspec": {
   "display_name": "Python 3",
   "language": "python",
   "name": "python3"
  },
  "language_info": {
   "codemirror_mode": {
    "name": "ipython",
    "version": 3
   },
   "file_extension": ".py",
   "mimetype": "text/x-python",
   "name": "python",
   "nbconvert_exporter": "python",
   "pygments_lexer": "ipython3",
   "version": "3.5.1"
  }
 },
 "nbformat": 4,
 "nbformat_minor": 0
}
